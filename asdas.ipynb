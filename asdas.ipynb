{
  "nbformat": 4,
  "nbformat_minor": 0,
  "metadata": {
    "colab": {
      "name": "asdas",
      "provenance": [],
      "collapsed_sections": [],
      "authorship_tag": "ABX9TyMeNiOrlEdLLm2+Z/SOb7zH",
      "include_colab_link": true
    },
    "kernelspec": {
      "name": "python3",
      "display_name": "Python 3"
    }
  },
  "cells": [
    {
      "cell_type": "markdown",
      "metadata": {
        "id": "view-in-github",
        "colab_type": "text"
      },
      "source": [
        "<a href=\"https://colab.research.google.com/github/KennyKur/big-data/blob/main/asdas.ipynb\" target=\"_parent\"><img src=\"https://colab.research.google.com/assets/colab-badge.svg\" alt=\"Open In Colab\"/></a>"
      ]
    },
    {
      "cell_type": "code",
      "metadata": {
        "id": "fn84n5UbbbW2"
      },
      "source": [
        "asdasds"
      ],
      "execution_count": null,
      "outputs": []
    }
  ]
}